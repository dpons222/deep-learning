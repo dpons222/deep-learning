{
 "cells": [
  {
   "cell_type": "markdown",
   "id": "291e6a91",
   "metadata": {},
   "source": [
    "# Imports"
   ]
  },
  {
   "cell_type": "code",
   "execution_count": 3,
   "id": "3e1dc113",
   "metadata": {},
   "outputs": [],
   "source": [
    "import os\n",
    "import numpy as np\n",
    "import tensorflow as tf"
   ]
  },
  {
   "cell_type": "markdown",
   "id": "a5630e41",
   "metadata": {},
   "source": [
    "# Dataset Exploration"
   ]
  },
  {
   "cell_type": "code",
   "execution_count": null,
   "id": "0ac8772f",
   "metadata": {},
   "outputs": [],
   "source": [
    "# Directory that holds the data\n",
    "DATA_DIR = '__________________'\n",
    "\n",
    "# Subdirectories for each class\n",
    "data_dir_dogs = os.path.join(DATA_DIR, '__________________')\n",
    "data_dir_cats = os.path.join(DATA_DIR, '__________________')\n",
    "\n",
    "# os.listdir returns a list containing all files under the given dir\n",
    "print(f\"There are {len(os.listdir(__________________))} .\")\n",
    "print(f\"There are {len(os.listdir(__________________))} \")"
   ]
  },
  {
   "cell_type": "markdown",
   "id": "abd89236",
   "metadata": {},
   "source": [
    "# EarlyStoppingCallback"
   ]
  },
  {
   "cell_type": "code",
   "execution_count": 2,
   "id": "4c698c4d",
   "metadata": {},
   "outputs": [],
   "source": [
    "# Remember to inherit from the correct class\n",
    "class EarlyStoppingCallback(tf.keras.callbacks.Callback):\n",
    "\n",
    "    # Define the correct function signature for on_epoch_end method\n",
    "    def on_epoch_end(self, epoch, logs=None):\n",
    "        # Check if the accuracy is greater or equal to 0.95 and validation accuracy is greater or equal to 0.8\n",
    "        if logs['accuracy'] >= 0.95 and logs['val_accuracy'] >= 0.80:\n",
    "            print(\"\\nReached 95% train accuracy and 80% validation accuracy, so cancelling training!\")\n",
    "            self.model.stop_training = True"
   ]
  },
  {
   "cell_type": "markdown",
   "id": "f5d10213",
   "metadata": {},
   "source": [
    "# Create Model"
   ]
  },
  {
   "cell_type": "code",
   "execution_count": null,
   "id": "5b84d76e",
   "metadata": {},
   "outputs": [],
   "source": [
    "model = tf.keras.models.Sequential([\n",
    "        tf.keras.layers.Input(shape=(150, 150, 3)),\n",
    "        tf.keras.layers.Rescaling(1./255),\n",
    "        # conv and pooling layers\n",
    "        tf.keras.layers.Conv2D(32, (3,3)),\n",
    "        tf.keras.layers.MaxPool2D((2,2)),\n",
    "        #\n",
    "        tf.keras.layers.Conv2D(64, (3,3)),\n",
    "        tf.keras.layers.MaxPool2D((2,2)),\n",
    "        #\n",
    "        tf.keras.layers.Conv2D(128, (3,3)),\n",
    "        tf.keras.layers.MaxPool2D((2,2)),\n",
    "        # flatten\n",
    "        tf.keras.layers.Flatten(),\n",
    "        # hidden\n",
    "        tf.keras.layers.Dense(512, activation='relu'),\n",
    "        tf.keras.layers.Dense(1, activation='sigmoid')\n",
    "    ])\n",
    "\n",
    "model.compile( \n",
    "        optimizer=tf.keras.optimizers.RMSprop(),\n",
    "        loss=tf.keras.losses.BinaryCrossentropy(),\n",
    "        metrics=['accuracy']\n",
    ")"
   ]
  },
  {
   "cell_type": "markdown",
   "id": "eda915e8",
   "metadata": {},
   "source": [
    "# Train Model"
   ]
  },
  {
   "cell_type": "code",
   "execution_count": null,
   "id": "dd4f674c",
   "metadata": {},
   "outputs": [],
   "source": [
    "# Train the model and save the training history (this may take some time)\n",
    "history = model.fit(\n",
    "\ttraining_dataset,\n",
    "\tepochs=15,\n",
    "\tvalidation_data=validation_dataset,\n",
    "\tcallbacks = [EarlyStoppingCallback()]\n",
    ")"
   ]
  },
  {
   "cell_type": "markdown",
   "id": "a2e6abf9",
   "metadata": {},
   "source": [
    "# Plot Training and Validation Accuracy"
   ]
  },
  {
   "cell_type": "markdown",
   "id": "e510b9c9",
   "metadata": {},
   "source": [
    "# Get training and validation accuracies\n",
    "acc = history.history['accuracy']\n",
    "val_acc = history.history['val_accuracy']\n",
    "loss = history.history['loss']\n",
    "val_loss = history.history['val_loss']\n",
    "\n",
    "# Get number of epochs\n",
    "epochs = range(len(acc))\n",
    "\n",
    "fig, ax = plt.subplots(1, 2, figsize=(10, 5))\n",
    "fig.suptitle('Training and validation accuracy')\n",
    "\n",
    "for i, (data, label) in enumerate(zip([(acc, val_acc), (loss, val_loss)], [\"Accuracy\", \"Loss\"])):\n",
    "    ax[i].plot(epochs, data[0], 'r', label=\"Training \" + label)\n",
    "    ax[i].plot(epochs, data[1], 'b', label=\"Validation \" + label)\n",
    "    ax[i].legend()\n",
    "    ax[i].set_xlabel('epochs')\n",
    "\n",
    "plt.show()"
   ]
  }
 ],
 "metadata": {
  "kernelspec": {
   "display_name": "Python 3",
   "language": "python",
   "name": "python3"
  },
  "language_info": {
   "codemirror_mode": {
    "name": "ipython",
    "version": 3
   },
   "file_extension": ".py",
   "mimetype": "text/x-python",
   "name": "python",
   "nbconvert_exporter": "python",
   "pygments_lexer": "ipython3",
   "version": "3.11.0rc1"
  }
 },
 "nbformat": 4,
 "nbformat_minor": 5
}
