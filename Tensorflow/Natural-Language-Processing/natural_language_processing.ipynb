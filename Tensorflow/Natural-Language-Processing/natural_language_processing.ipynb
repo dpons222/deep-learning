{
 "cells": [
  {
   "cell_type": "code",
   "execution_count": 19,
   "id": "0c9d3895",
   "metadata": {},
   "outputs": [],
   "source": [
    "import numpy as np\n",
    "import tensorflow as tf\n",
    "import pandas as pd"
   ]
  },
  {
   "cell_type": "code",
   "execution_count": 20,
   "id": "ffb99cc4",
   "metadata": {},
   "outputs": [
    {
     "name": "stdout",
     "output_type": "stream",
     "text": [
      "['', '[UNK]', 'my', 'love', 'i', 'girlfriend', 'do', 'you', 'than', 'more', 'dog', 'cat']\n",
      "0 \n",
      "1 [UNK]\n",
      "2 my\n",
      "3 love\n",
      "4 i\n",
      "5 girlfriend\n",
      "6 do\n",
      "7 you\n",
      "8 than\n",
      "9 more\n",
      "10 dog\n",
      "11 cat\n"
     ]
    }
   ],
   "source": [
    "sentences = [\n",
    "    ['I love my dog'],\n",
    "    ['i love my cat'],\n",
    "    ['i love my girlfriend'],\n",
    "    ['do you love my girlfriend more than i do']\n",
    "]\n",
    "# instantiate layer vectorization layer\n",
    "vectorize_layer = tf.keras.layers.TextVectorization()\n",
    "\n",
    "# adapt; pass sentences var through it\n",
    "vectorize_layer.adapt(sentences)\n",
    "\n",
    "# view the vocab\n",
    "vocabulary = vectorize_layer.get_vocabulary()\n",
    "print(vocabulary)\n",
    "for index, word in enumerate(vocabulary):\n",
    "    print(index, word)"
   ]
  },
  {
   "cell_type": "code",
   "execution_count": 21,
   "id": "ab025acc",
   "metadata": {},
   "outputs": [
    {
     "name": "stdout",
     "output_type": "stream",
     "text": [
      "tf.Tensor([[ 4  3  2 10]], shape=(1, 4), dtype=int64)\n",
      "tf.Tensor([[6 7 3 2 5 9 8 4 6]], shape=(1, 9), dtype=int64)\n"
     ]
    }
   ],
   "source": [
    "# get the tensor forms of sequences\n",
    "sequence1 = vectorize_layer(['i love my dog'])\n",
    "sequence2 = vectorize_layer(['do you love my girlfriend more than i do'])\n",
    "print(sequence1)\n",
    "print(sequence2)"
   ]
  },
  {
   "cell_type": "code",
   "execution_count": 38,
   "id": "b43a37b8",
   "metadata": {},
   "outputs": [
    {
     "name": "stdout",
     "output_type": "stream",
     "text": [
      "tf.Tensor(\n",
      "[[ 4  3  2 10  0  0  0  0  0]\n",
      " [ 4  3  2 11  0  0  0  0  0]\n",
      " [ 4  3  2  5  0  0  0  0  0]\n",
      " [ 6  7  3  2  5  9  8  4  6]], shape=(4, 9), dtype=int64) \n",
      "\n",
      " tf.Tensor(\n",
      "[[4 1 1 1 1 1 1 1 1 1 1 1 1 1 1 1 1 1 1 1 1 1 1 1 1 0]\n",
      " [1 1 1 1 1 1 1 1 1 1 1 1 1 1 1 1 1 1 1 1 1 1 1 1 1 1]], shape=(2, 26), dtype=int64)\n"
     ]
    }
   ],
   "source": [
    "# get the tensor forms of many sequences\n",
    "rand_article = [\"I Return a copy of the string with leading characters removed. The chars argument is a string specifying the set of characters to be removed.\",\n",
    "\"If omitted or None, the chars argument defaults to removing whitespace. The chars argument is not a prefix; rather, all combinations of its values are stripped:\"]\n",
    "sequence1 = vectorize_layer(sentences)\n",
    "sequence2 = vectorize_layer(rand_article)\n",
    "print(sequence1,'\\n\\n',sequence2)\n"
   ]
  },
  {
   "cell_type": "code",
   "execution_count": 37,
   "id": "cec5e6c0",
   "metadata": {},
   "outputs": [
    {
     "name": "stdout",
     "output_type": "stream",
     "text": [
      "0 I Return a copy of the string with leading characters removed. The chars argument is a string specifying the set of characters to be removed.\n",
      "1 If omitted or None, the chars argument defaults to removing whitespace. ' 'The chars argument is not a prefix; rather, all combinations of its values are stripped:\n"
     ]
    }
   ],
   "source": [
    "for index, word in enumerate(rand_article):\n",
    "    print(index, word)"
   ]
  },
  {
   "cell_type": "code",
   "execution_count": 39,
   "id": "ecc206f6",
   "metadata": {},
   "outputs": [
    {
     "name": "stdout",
     "output_type": "stream",
     "text": [
      "141\n"
     ]
    }
   ],
   "source": [
    "print(len(rand_article[0]))"
   ]
  },
  {
   "cell_type": "code",
   "execution_count": 40,
   "id": "2e078873",
   "metadata": {},
   "outputs": [
    {
     "name": "stdout",
     "output_type": "stream",
     "text": [
      "160\n"
     ]
    }
   ],
   "source": [
    "print(len(rand_article[1]))"
   ]
  },
  {
   "cell_type": "code",
   "execution_count": null,
   "id": "e56467e5",
   "metadata": {},
   "outputs": [],
   "source": []
  }
 ],
 "metadata": {
  "kernelspec": {
   "display_name": "Python 3",
   "language": "python",
   "name": "python3"
  },
  "language_info": {
   "codemirror_mode": {
    "name": "ipython",
    "version": 3
   },
   "file_extension": ".py",
   "mimetype": "text/x-python",
   "name": "python",
   "nbconvert_exporter": "python",
   "pygments_lexer": "ipython3",
   "version": "3.11.0"
  }
 },
 "nbformat": 4,
 "nbformat_minor": 5
}
