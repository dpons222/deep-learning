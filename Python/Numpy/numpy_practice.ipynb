{
 "cells": [
  {
   "cell_type": "markdown",
   "id": "274c5bdd",
   "metadata": {},
   "source": [
    "# Imports"
   ]
  },
  {
   "cell_type": "code",
   "execution_count": 45,
   "id": "7603e8e3",
   "metadata": {},
   "outputs": [],
   "source": [
    "import numpy as np"
   ]
  },
  {
   "cell_type": "code",
   "execution_count": 46,
   "id": "78e321b4",
   "metadata": {},
   "outputs": [
    {
     "data": {
      "text/plain": [
       "array([[[7, 4, 4, 2, 0],\n",
       "        [2, 8, 0, 0, 0],\n",
       "        [0, 9, 4, 6, 3],\n",
       "        [3, 7, 4, 6, 9]],\n",
       "\n",
       "       [[0, 9, 3, 6, 2],\n",
       "        [8, 8, 5, 6, 0],\n",
       "        [5, 4, 3, 6, 9],\n",
       "        [2, 9, 2, 9, 1]],\n",
       "\n",
       "       [[3, 4, 2, 1, 3],\n",
       "        [5, 4, 8, 5, 4],\n",
       "        [7, 5, 1, 3, 1],\n",
       "        [3, 9, 9, 0, 3]]])"
      ]
     },
     "execution_count": 46,
     "metadata": {},
     "output_type": "execute_result"
    }
   ],
   "source": [
    "a = np.array([\n",
    "    [[7,4,4,2,0],\n",
    "    [2,8,0,0,0],\n",
    "    [0,9,4,6,3],\n",
    "    [3,7,4,6,9]],\n",
    "\n",
    "    [[0,9,3,6,2],\n",
    "    [8,8,5,6,0],\n",
    "    [5,4,3,6,9],\n",
    "    [2,9,2,9,1]],\n",
    "\n",
    "    [[3,4,2,1,3],\n",
    "    [5,4,8,5,4],\n",
    "    [7,5,1,3,1],\n",
    "    [3,9,9,0,3]]\n",
    "    ])\n",
    "a"
   ]
  },
  {
   "cell_type": "code",
   "execution_count": 47,
   "id": "19e1dac0",
   "metadata": {},
   "outputs": [],
   "source": [
    "a2 = np.array([\n",
    "    [ # dim 3 (consisting of 3 tables, or surfaces)\n",
    "        [ # dim 2 (a table)\n",
    "            [7,4,4,2,0],\n",
    "            [2,8,0,0,0],\n",
    "            [0,9,4,6,3],\n",
    "            [3,7,4,6,9],\n",
    "            ],\n",
    "        [ # dim 2 (a table)\n",
    "            [0,9,3,6,2],\n",
    "            [8,8,5,6,0],\n",
    "            [5,4,3,6,9],\n",
    "            [2,9,2,9,1],\n",
    "            ],\n",
    "        [ # dim 2 (a table)\n",
    "            [3,4,2,1,3],\n",
    "            [5,4,8,5,4],\n",
    "            [7,5,1,3,1],\n",
    "            [3,9,9,0,3]\n",
    "            ]\n",
    "        ],\n",
    "    [ # dim 3 (consisting of 3 tables, or surfaces)\n",
    "        [ # dim 2 (a table)\n",
    "            [7,4,4,2,0],\n",
    "            [2,8,0,0,0],\n",
    "            [0,9,4,6,3],\n",
    "            [3,7,4,6,9],\n",
    "            ],\n",
    "        [ # dim 2 (a table)\n",
    "            [0,9,3,6,2],\n",
    "            [8,8,5,6,0],\n",
    "            [5,4,3,6,9],\n",
    "            [2,9,2,9,1],\n",
    "            ],\n",
    "        [ # dim 2 (a table)\n",
    "            [3,4,2,1,3],\n",
    "            [5,4,8,5,4],\n",
    "            [7,5,1,3,1],\n",
    "            [3,9,9,0,3]\n",
    "            ]\n",
    "        ]\n",
    "    ])"
   ]
  },
  {
   "cell_type": "code",
   "execution_count": 48,
   "id": "195cadd2",
   "metadata": {},
   "outputs": [
    {
     "data": {
      "text/plain": [
       "array([[[[7, 4, 4, 2, 0],\n",
       "         [2, 8, 0, 0, 0],\n",
       "         [0, 9, 4, 6, 3],\n",
       "         [3, 7, 4, 6, 9]],\n",
       "\n",
       "        [[0, 9, 3, 6, 2],\n",
       "         [8, 8, 5, 6, 0],\n",
       "         [5, 4, 3, 6, 9],\n",
       "         [2, 9, 2, 9, 1]],\n",
       "\n",
       "        [[3, 4, 2, 1, 3],\n",
       "         [5, 4, 8, 5, 4],\n",
       "         [7, 5, 1, 3, 1],\n",
       "         [3, 9, 9, 0, 3]]],\n",
       "\n",
       "\n",
       "       [[[7, 4, 4, 2, 0],\n",
       "         [2, 8, 0, 0, 0],\n",
       "         [0, 9, 4, 6, 3],\n",
       "         [3, 7, 4, 6, 9]],\n",
       "\n",
       "        [[0, 9, 3, 6, 2],\n",
       "         [8, 8, 5, 6, 0],\n",
       "         [5, 4, 3, 6, 9],\n",
       "         [2, 9, 2, 9, 1]],\n",
       "\n",
       "        [[3, 4, 2, 1, 3],\n",
       "         [5, 4, 8, 5, 4],\n",
       "         [7, 5, 1, 3, 1],\n",
       "         [3, 9, 9, 0, 3]]]])"
      ]
     },
     "execution_count": 48,
     "metadata": {},
     "output_type": "execute_result"
    }
   ],
   "source": [
    "a2"
   ]
  },
  {
   "cell_type": "markdown",
   "id": "06ada13f",
   "metadata": {},
   "source": [
    "# Indexing"
   ]
  },
  {
   "cell_type": "code",
   "execution_count": 49,
   "id": "b3feb99d",
   "metadata": {},
   "outputs": [
    {
     "data": {
      "text/plain": [
       "5"
      ]
     },
     "execution_count": 49,
     "metadata": {},
     "output_type": "execute_result"
    }
   ],
   "source": [
    "a3 = a2[0][2][1][3]\n",
    "a3"
   ]
  },
  {
   "cell_type": "code",
   "execution_count": 50,
   "id": "0b582f77",
   "metadata": {},
   "outputs": [
    {
     "data": {
      "text/plain": [
       "5"
      ]
     },
     "execution_count": 50,
     "metadata": {},
     "output_type": "execute_result"
    }
   ],
   "source": [
    "a2[0,1,1,2]"
   ]
  },
  {
   "cell_type": "markdown",
   "id": "048ca1ef",
   "metadata": {},
   "source": [
    "# Array Atributes"
   ]
  },
  {
   "cell_type": "code",
   "execution_count": 51,
   "id": "6883a28f",
   "metadata": {},
   "outputs": [
    {
     "data": {
      "text/plain": [
       "4"
      ]
     },
     "execution_count": 51,
     "metadata": {},
     "output_type": "execute_result"
    }
   ],
   "source": [
    "a2.ndim"
   ]
  },
  {
   "cell_type": "markdown",
   "id": "7521eaba",
   "metadata": {},
   "source": [
    "quick note, remember that the \"dimensions\" of the numpy array are often referred to as an axis or axes; to disambiguate between the dimensionality of an array and the dimensionality of the data represented by the array. For instance, the array 'a'could represent three points, each lying within a four-dimensional space, but 'a' has only two “axes” "
   ]
  },
  {
   "cell_type": "code",
   "execution_count": 52,
   "id": "41bb76b5",
   "metadata": {},
   "outputs": [
    {
     "data": {
      "text/plain": [
       "(2, 3, 4, 5)"
      ]
     },
     "execution_count": 52,
     "metadata": {},
     "output_type": "execute_result"
    }
   ],
   "source": [
    "a2.shape"
   ]
  },
  {
   "cell_type": "code",
   "execution_count": 53,
   "id": "b72c1464",
   "metadata": {},
   "outputs": [
    {
     "data": {
      "text/plain": [
       "120"
      ]
     },
     "execution_count": 53,
     "metadata": {},
     "output_type": "execute_result"
    }
   ],
   "source": [
    "a2.size"
   ]
  },
  {
   "cell_type": "code",
   "execution_count": 58,
   "id": "c44eaa31",
   "metadata": {},
   "outputs": [
    {
     "data": {
      "text/plain": [
       "array([  1. ,  17.5,  34. ,  50.5,  67. ,  83.5, 100. ])"
      ]
     },
     "execution_count": 58,
     "metadata": {},
     "output_type": "execute_result"
    }
   ],
   "source": [
    "np.linspace(1, 100, num=7)"
   ]
  },
  {
   "cell_type": "code",
   "execution_count": 59,
   "id": "5ff94ffc",
   "metadata": {},
   "outputs": [
    {
     "data": {
      "text/plain": [
       "(2, 3, 4, 5)"
      ]
     },
     "execution_count": 59,
     "metadata": {},
     "output_type": "execute_result"
    }
   ],
   "source": [
    "a2.shape"
   ]
  },
  {
   "cell_type": "code",
   "execution_count": null,
   "id": "07af738f",
   "metadata": {},
   "outputs": [
    {
     "data": {
      "text/plain": [
       "array([7, 4, 4, 2, 0, 2, 8, 0, 0, 0, 0, 9, 4, 6, 3, 3, 7, 4, 6, 9, 0, 9,\n",
       "       3, 6, 2, 8, 8, 5, 6, 0, 5, 4, 3, 6, 9, 2, 9, 2, 9, 1, 3, 4, 2, 1,\n",
       "       3, 5, 4, 8, 5, 4, 7, 5, 1, 3, 1, 3, 9, 9, 0, 3, 7, 4, 4, 2, 0, 2,\n",
       "       8, 0, 0, 0, 0, 9, 4, 6, 3, 3, 7, 4, 6, 9, 0, 9, 3, 6, 2, 8, 8, 5,\n",
       "       6, 0, 5, 4, 3, 6, 9, 2, 9, 2, 9, 1, 3, 4, 2, 1, 3, 5, 4, 8, 5, 4,\n",
       "       7, 5, 1, 3, 1, 3, 9, 9, 0, 3])"
      ]
     },
     "execution_count": 62,
     "metadata": {},
     "output_type": "execute_result"
    }
   ],
   "source": [
    "np.divide()"
   ]
  },
  {
   "cell_type": "code",
   "execution_count": null,
   "id": "2cf40e00",
   "metadata": {},
   "outputs": [],
   "source": [
    "np.copy()"
   ]
  }
 ],
 "metadata": {
  "kernelspec": {
   "display_name": "Python 3",
   "language": "python",
   "name": "python3"
  },
  "language_info": {
   "codemirror_mode": {
    "name": "ipython",
    "version": 3
   },
   "file_extension": ".py",
   "mimetype": "text/x-python",
   "name": "python",
   "nbconvert_exporter": "python",
   "pygments_lexer": "ipython3",
   "version": "3.11.0"
  }
 },
 "nbformat": 4,
 "nbformat_minor": 5
}
