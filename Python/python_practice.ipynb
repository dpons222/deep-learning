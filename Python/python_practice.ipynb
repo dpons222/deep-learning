{
 "cells": [
  {
   "cell_type": "markdown",
   "id": "9170e45d",
   "metadata": {},
   "source": [
    "# Lists"
   ]
  },
  {
   "cell_type": "code",
   "execution_count": 1,
   "id": "335b5b5b",
   "metadata": {},
   "outputs": [],
   "source": [
    "favorites = ['family', 'learning', 'freedom', 'money', 'eternal']"
   ]
  },
  {
   "cell_type": "code",
   "execution_count": 2,
   "id": "03f4d67b",
   "metadata": {},
   "outputs": [
    {
     "name": "stdout",
     "output_type": "stream",
     "text": [
      "['family', 'learning', 'freedom', 'money', 'eternal']\n"
     ]
    }
   ],
   "source": [
    "print(favorites)"
   ]
  },
  {
   "cell_type": "code",
   "execution_count": 3,
   "id": "95f0831f",
   "metadata": {},
   "outputs": [
    {
     "name": "stdout",
     "output_type": "stream",
     "text": [
      "family, learning, freedom, eternal\n"
     ]
    }
   ],
   "source": [
    "print(f'{favorites[0]}, {favorites[1]}, {favorites[2]}, {favorites[-1]}')"
   ]
  },
  {
   "cell_type": "markdown",
   "id": "f2107e9d",
   "metadata": {},
   "source": [
    "## Immutable: to-do list"
   ]
  },
  {
   "cell_type": "code",
   "execution_count": 4,
   "id": "a1a886ac",
   "metadata": {},
   "outputs": [
    {
     "name": "stdout",
     "output_type": "stream",
     "text": [
      "['Grocery shopping', 'Pay bills', 'Walk the dog']\n"
     ]
    }
   ],
   "source": [
    "todos = [\"Grocery shopping\", \"Pay bills\", \"Walk the dog\"]\n",
    "print(todos)"
   ]
  },
  {
   "cell_type": "code",
   "execution_count": 5,
   "id": "3e0850b3",
   "metadata": {},
   "outputs": [
    {
     "data": {
      "text/plain": [
       "['Grocery shopping', 'Call Mom', 'Walk the dog']"
      ]
     },
     "execution_count": 5,
     "metadata": {},
     "output_type": "execute_result"
    }
   ],
   "source": [
    "todos[1] = 'Call Mom'\n",
    "todos"
   ]
  },
  {
   "cell_type": "code",
   "execution_count": 6,
   "id": "70184d6d",
   "metadata": {},
   "outputs": [
    {
     "data": {
      "text/plain": [
       "['Grocery shopping', 'Call Mom']"
      ]
     },
     "execution_count": 6,
     "metadata": {},
     "output_type": "execute_result"
    }
   ],
   "source": [
    "todos.remove(todos[2])\n",
    "todos"
   ]
  },
  {
   "cell_type": "code",
   "execution_count": 7,
   "id": "ca991dc8",
   "metadata": {},
   "outputs": [
    {
     "name": "stdout",
     "output_type": "stream",
     "text": [
      "2\n"
     ]
    }
   ],
   "source": [
    "print(len(todos))"
   ]
  },
  {
   "cell_type": "code",
   "execution_count": null,
   "id": "ba1bebb9",
   "metadata": {},
   "outputs": [],
   "source": []
  }
 ],
 "metadata": {
  "kernelspec": {
   "display_name": "Python 3",
   "language": "python",
   "name": "python3"
  },
  "language_info": {
   "codemirror_mode": {
    "name": "ipython",
    "version": 3
   },
   "file_extension": ".py",
   "mimetype": "text/x-python",
   "name": "python",
   "nbconvert_exporter": "python",
   "pygments_lexer": "ipython3",
   "version": "3.11.0rc1"
  }
 },
 "nbformat": 4,
 "nbformat_minor": 5
}
